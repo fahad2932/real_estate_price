{
 "cells": [
  {
   "cell_type": "code",
   "execution_count": null,
   "id": "a541568c-4395-4fd9-afd2-98b4ad486563",
   "metadata": {},
   "outputs": [],
   "source": [
    "import pandas as pd\n",
    "import numpy as np\n",
    "from matplotlib import pyplot as pt\n",
    "%matplotlib inline\n",
    "import matplotlib\n",
    "matplotlib.rcParams[\"figure.figsize\"] = (20,10)\n"
   ]
  },
  {
   "cell_type": "code",
   "execution_count": null,
   "id": "f8563a98-f940-4f2b-9cf2-5d71ba003b7f",
   "metadata": {},
   "outputs": [],
   "source": [
    "df1 = pd.read_csv(\"data.csv\")\n",
    "df1.head()"
   ]
  },
  {
   "cell_type": "code",
   "execution_count": null,
   "id": "e30fd8f4-9880-4704-8137-a9a84bbe95be",
   "metadata": {},
   "outputs": [],
   "source": [
    "df1.shape\n"
   ]
  },
  {
   "cell_type": "code",
   "execution_count": null,
   "id": "8d4eecb6-9f3f-47c0-a7bc-1209441a1aa5",
   "metadata": {},
   "outputs": [],
   "source": [
    "df1.groupby('area_type')['area_type'].agg('count')"
   ]
  },
  {
   "cell_type": "code",
   "execution_count": null,
   "id": "6ee931e1-4d5d-441a-85dc-ab618bb130a9",
   "metadata": {},
   "outputs": [],
   "source": [
    "df2 = df1.drop(['area_type','society','balcony','availability'],axis='columns')\n",
    "df2.head()"
   ]
  },
  {
   "cell_type": "code",
   "execution_count": null,
   "id": "d25d8ba1-428d-48c3-8ecb-59a4b2be5f1e",
   "metadata": {},
   "outputs": [],
   "source": [
    "df2.groupby('location')['location'].agg('count')"
   ]
  },
  {
   "cell_type": "code",
   "execution_count": null,
   "id": "579a0829-6c9d-46fc-95b9-16a8c91299ed",
   "metadata": {},
   "outputs": [],
   "source": [
    "#check count of null values\n",
    "df2.isnull().sum()"
   ]
  },
  {
   "cell_type": "code",
   "execution_count": null,
   "id": "7b402946-3ca2-4bef-8fbf-ae0c30c8dbe7",
   "metadata": {},
   "outputs": [],
   "source": [
    "df3 = df2.dropna()\n",
    "df3.shape"
   ]
  },
  {
   "cell_type": "code",
   "execution_count": null,
   "id": "5dfd363c-428b-4871-9a82-ec1c173213bb",
   "metadata": {},
   "outputs": [],
   "source": [
    "df3['size'].unique()"
   ]
  },
  {
   "cell_type": "code",
   "execution_count": null,
   "id": "b4439173-12b8-44b5-a566-c8041671af28",
   "metadata": {},
   "outputs": [],
   "source": [
    "df3['bedrooms'] = df3['size'].apply(lambda x: int(x.split(' ')[0]))\n",
    "df3.head()                                   "
   ]
  },
  {
   "cell_type": "code",
   "execution_count": null,
   "id": "1d680fb7-0edd-4219-be88-b1b5f2072dbe",
   "metadata": {},
   "outputs": [],
   "source": [
    "df3['bedrooms'].unique()"
   ]
  },
  {
   "cell_type": "code",
   "execution_count": null,
   "id": "b83e3fbf-cf8e-4465-8ab8-f6545a6658a3",
   "metadata": {},
   "outputs": [],
   "source": [
    "df3[df3.bedrooms>20]"
   ]
  },
  {
   "cell_type": "code",
   "execution_count": null,
   "id": "b2fcaf30-e69d-4810-af5e-d6645dff6be2",
   "metadata": {},
   "outputs": [],
   "source": [
    "df3['total_sqft'].unique()"
   ]
  },
  {
   "cell_type": "code",
   "execution_count": null,
   "id": "08a2e993-a4a8-47c2-b213-53126603d04e",
   "metadata": {},
   "outputs": [],
   "source": [
    "#ranges is total_sqft, we should remove this error\n",
    "def isfloat(x):\n",
    "    try:\n",
    "        float(x)\n",
    "    except:\n",
    "        return False\n",
    "    return True\n",
    "df3[~df3['total_sqft'].apply(isfloat)].head(10)"
   ]
  },
  {
   "cell_type": "code",
   "execution_count": null,
   "id": "9ccb4668-38ee-4cce-8290-c4c3039620bf",
   "metadata": {},
   "outputs": [],
   "source": [
    "def convert_to_float(x):\n",
    "    token = x.split('-')\n",
    "    if len(token) == 2:\n",
    "            print(token[0])\n",
    "            print(token[1])\n",
    "            return float(float(token[0])+float(token[1]))/2\n",
    "    try:\n",
    "        return float(x)\n",
    "    except:\n",
    "        return None\n",
    "convert_to_float('2932-2850')"
   ]
  },
  {
   "cell_type": "code",
   "execution_count": null,
   "id": "767d99e2-aac6-4f07-9ab5-4f202f0b5119",
   "metadata": {},
   "outputs": [],
   "source": [
    "df4 = df3.copy()\n",
    "df4['total_sqft'] = df4['total_sqft'].apply(lambda x: convert_to_float(x))\n",
    "df4.head(3)"
   ]
  },
  {
   "cell_type": "code",
   "execution_count": null,
   "id": "d6081b80-4dc6-4b17-887b-dfa8a9e779b6",
   "metadata": {},
   "outputs": [],
   "source": [
    "df5 = df4.copy()\n",
    "df5['price_per_sqft'] = df5['price']*10000/df5['total_sqft']\n",
    "df5.head()"
   ]
  },
  {
   "cell_type": "code",
   "execution_count": null,
   "id": "9d9e583b-51d8-4d3d-940a-af876b8d7abf",
   "metadata": {},
   "outputs": [],
   "source": [
    "#location is important becuase it is a type and usually for such types we have one-hot-encoding\n",
    "# each column belongs to a certain class and each element belonging to certain class has a corresponding 1, others are 0\n",
    "# but we have a lot of location meaning alot of columns\n",
    "len(df5['location'].unique())\n",
    "#1304 columns, to many features or dimentianality curse"
   ]
  },
  {
   "cell_type": "code",
   "execution_count": null,
   "id": "c96159e5-bbd7-4dd3-954c-64f70cde6367",
   "metadata": {},
   "outputs": [],
   "source": [
    "#solution, add other caetagory\n",
    "df5['location'] = df5['location'].apply(lambda x: x.strip()) #remove useless spaces from start or end\n",
    "location_stats = df5.groupby('location')['location'].agg('count').sort_values(ascending = False)\n",
    "location_stats"
   ]
  },
  {
   "cell_type": "code",
   "execution_count": null,
   "id": "0a53ab7a-18f2-4d7a-a607-f67b0cb72ca4",
   "metadata": {},
   "outputs": [],
   "source": [
    "less_than_ten = location_stats[location_stats<=10]\n",
    "less_than_ten"
   ]
  },
  {
   "cell_type": "code",
   "execution_count": null,
   "id": "6ef374bd-6054-4dde-be06-c25eaff660dd",
   "metadata": {},
   "outputs": [],
   "source": [
    "df5['location'] = df5['location'].apply(lambda x: 'others' if x in less_than_ten else x)\n",
    "len(df5.location.unique())"
   ]
  },
  {
   "cell_type": "code",
   "execution_count": null,
   "id": "b402a3b7-27c8-4b2a-b5c7-5bb52a47b1e2",
   "metadata": {},
   "outputs": [],
   "source": [
    "#remove outliers\n",
    "# techniques : standard deviation, domain knowledge\n",
    "# in domain knowledge, we set a threshold then examine it for instance a normal room has a threasold of 300 sqft\n",
    "# so if any house has less than threasold value would be a outlier\n",
    "df5[df5.total_sqft/df5.bedrooms< 300].head()\n",
    "#now how a house can have 8 rooms and only size 600 sqft, that's an outlier"
   ]
  },
  {
   "cell_type": "code",
   "execution_count": null,
   "id": "10b62a56-498e-4206-9a6e-9c60970dd899",
   "metadata": {},
   "outputs": [],
   "source": [
    "df6 = df5[~(df5.total_sqft/df5.bedrooms< 300)]\n",
    "df6.shape"
   ]
  },
  {
   "cell_type": "code",
   "execution_count": null,
   "id": "a4797b0a-591e-485e-b72e-c3c29e043901",
   "metadata": {},
   "outputs": [],
   "source": [
    "df6.price_per_sqft.describe()"
   ]
  },
  {
   "cell_type": "code",
   "execution_count": null,
   "id": "331cd183-4dba-496e-9e47-7f98afa95a62",
   "metadata": {},
   "outputs": [],
   "source": [
    "#removing price_per_sqft per location using standard deviation\n",
    "def remove_outliers(df):\n",
    "    df_out = pd.DataFrame()\n",
    "    for key, subdf in df.groupby('location'):\n",
    "        mean = np.mean(subdf.price_per_sqft)\n",
    "        std = np.std(subdf.price_per_sqft)\n",
    "        new_df = subdf[(subdf.price_per_sqft > (mean-std)) & (subdf.price_per_sqft <= (mean+std))]\n",
    "        df_out = pd.concat([df_out,new_df],ignore_index = True)\n",
    "    return df_out\n",
    "df7 = remove_outliers(df6)\n",
    "df7.shape"
   ]
  },
  {
   "cell_type": "code",
   "execution_count": null,
   "id": "cf2ec474-bc12-440e-94ae-351ce267a3ec",
   "metadata": {},
   "outputs": [],
   "source": [
    "#same sqft_area but more price of house with less rooms in same location\n",
    "def scatter_plot(df,location):\n",
    "    bhk2 = df[(df.location == location) & (df.bedrooms == 2)]\n",
    "    bhk3 = df[(df.location == location) & (df.bedrooms == 3)]\n",
    "    matplotlib.rcParams['figure.figsize'] = (15,10)\n",
    "    pt.scatter(bhk2.total_sqft,bhk2.price,color = 'blue',label = '2 Bedroom',s= 50)\n",
    "    pt.scatter(bhk3.total_sqft,bhk3.price,marker = '+',color = 'green',label = '3 Bedroom',s= 50)\n",
    "    pt.xlabel('total squre_feet')\n",
    "    pt.ylabel('price in lacs')\n",
    "    pt.title(location)\n",
    "    pt.legend()\n",
    "    \n",
    "scatter_plot(df7,\"Hebbal\")"
   ]
  },
  {
   "cell_type": "code",
   "execution_count": null,
   "id": "49d54aff-f080-4f83-9626-168464979e06",
   "metadata": {},
   "outputs": [],
   "source": [
    "#remove outliers (house with bedrooms) that has price less than mean of price with less bedrooms\n",
    "def remove_bhk_outliers(df):\n",
    "    exclude_indices = np.array([])\n",
    "    for location, location_df in df.groupby('location'):\n",
    "        bhk_stats = {}\n",
    "        for bhk, bhk_df in location_df.groupby('bedrooms'):\n",
    "            bhk_stats[bhk] = {\n",
    "                'mean': np.mean(bhk_df.price_per_sqft),\n",
    "                'std': np.std(bhk_df.price_per_sqft),\n",
    "                'count': bhk_df.shape[0]\n",
    "            }\n",
    "        for bhk, bhk_df in location_df.groupby('bedrooms'):\n",
    "            stats = bhk_stats.get(bhk-1)\n",
    "            if stats and stats['count']>5:\n",
    "                exclude_indices = np.append(exclude_indices, bhk_df[bhk_df.price_per_sqft < (stats['mean'])].index.values)\n",
    "    return df.drop(exclude_indices, axis='index')\n",
    "\n",
    "df8 = remove_bhk_outliers(df7)\n",
    "df8.shape\n"
   ]
  },
  {
   "cell_type": "code",
   "execution_count": null,
   "id": "85ca20df-11e1-4f54-9965-ba97a5613f58",
   "metadata": {},
   "outputs": [],
   "source": [
    "#now in this plot you will see majority of green plus which were below blue dots for same sqft are gone\n",
    "def scatter_plot(df,location):\n",
    "    bhk2 = df[(df.location == location) & (df.bedrooms == 2)]\n",
    "    bhk3 = df[(df.location == location) & (df.bedrooms == 3)]\n",
    "    matplotlib.rcParams['figure.figsize'] = (15,10)\n",
    "    pt.scatter(bhk2.total_sqft,bhk2.price,color = 'blue',label = '2 Bedroom',s= 50)\n",
    "    pt.scatter(bhk3.total_sqft,bhk3.price,marker = '+',color = 'green',label = '3 Bedroom',s= 50)\n",
    "    pt.xlabel('total squre_feet')\n",
    "    pt.ylabel('price in lacs')\n",
    "    pt.title(location)\n",
    "    pt.legend()\n",
    "    \n",
    "scatter_plot(df8,\"Hebbal\")"
   ]
  },
  {
   "cell_type": "code",
   "execution_count": null,
   "id": "8b034b69-5ece-4bee-8ca8-4411e9701398",
   "metadata": {},
   "outputs": [],
   "source": [
    "matplotlib.rcParams['figure.figsize'] = (20,10)\n",
    "pt.hist(df8.price_per_sqft,rwidth= 0.8)\n",
    "pt.xlabel('price per sqft')\n",
    "pt.ylabel('count')"
   ]
  },
  {
   "cell_type": "code",
   "execution_count": null,
   "id": "8dc1939a-0505-4f8c-a0a0-9c9339e99c1d",
   "metadata": {},
   "outputs": [],
   "source": [
    "#removing bathroom outliers\n",
    "matplotlib.rcParams['figure.figsize'] = (20,10)\n",
    "pt.hist(df8.bath,rwidth= 0.8)\n",
    "pt.xlabel('bath')\n",
    "pt.ylabel('count')"
   ]
  },
  {
   "cell_type": "code",
   "execution_count": null,
   "id": "41071352-5c1b-488d-b85a-1278697774ad",
   "metadata": {},
   "outputs": [],
   "source": [
    "#we set a threshold by domian knwoledge that any house which has more bathroom than number of bedrooms+2 , we remove them\n",
    "df9 = df8[(df8.bath)< (df8.bedrooms+2)]"
   ]
  },
  {
   "cell_type": "code",
   "execution_count": null,
   "id": "282f85f9-851b-4cb6-b62a-860a1df2a0b4",
   "metadata": {},
   "outputs": [],
   "source": [
    "df9.shape\n"
   ]
  },
  {
   "cell_type": "code",
   "execution_count": null,
   "id": "a4a8ed94-66f0-4983-90a1-2b090363eafb",
   "metadata": {},
   "outputs": [],
   "source": [
    "#now we remove unnecassary features for traning i.e remove size because we already have bathrooms and remove price_per_sqft\n",
    "#because we only need it for outlier detection\n",
    "df9.drop(['size','price_per_sqft'],axis = 'columns')"
   ]
  },
  {
   "cell_type": "code",
   "execution_count": null,
   "id": "4eb7334a-bbe0-4cb3-bc7f-d69437e7bf76",
   "metadata": {},
   "outputs": [],
   "source": [
    "#machine learning model cannot interpret text data so we convert everything that is string into numbers\n",
    "#create one-hot encoding\n",
    "dummies = pd.get_dummies(df9.location)\n",
    "\n",
    "dummies.head(10)\n"
   ]
  },
  {
   "cell_type": "code",
   "execution_count": null,
   "id": "b93f967f-432d-4041-9a74-cabba0026764",
   "metadata": {},
   "outputs": [],
   "source": [
    "#we remove that column to avoid dummy variable trap\n",
    "df10 = pd.concat([df9,dummies.drop('others',axis='columns')],axis='columns')\n",
    "df10 = df10.drop(['location','size','price_per_sqft'],axis='columns')"
   ]
  },
  {
   "cell_type": "code",
   "execution_count": null,
   "id": "82bb62d5-3e6e-4da7-b84f-30b2214b84e6",
   "metadata": {},
   "outputs": [],
   "source": [
    "#now we have dataframe with neccessary columns and labels\n",
    "df10.head(10)"
   ]
  },
  {
   "cell_type": "code",
   "execution_count": null,
   "id": "7ac46380-c08e-418d-8ee4-4cf8213b580a",
   "metadata": {},
   "outputs": [],
   "source": [
    "#now we seperate dependant and independant variables\n",
    "X= df10.drop('price',axis='columns')\n",
    "X.head()\n",
    "\n"
   ]
  },
  {
   "cell_type": "code",
   "execution_count": null,
   "id": "bfefe875-2f76-4e31-9953-ef98404851e6",
   "metadata": {},
   "outputs": [],
   "source": [
    "y = df10.price\n",
    "y.head()"
   ]
  },
  {
   "cell_type": "code",
   "execution_count": null,
   "id": "00ed5b1d-1b3b-4346-9ce0-f1c003caf5f0",
   "metadata": {},
   "outputs": [],
   "source": [
    "from sklearn.model_selection import train_test_split\n",
    "X_train,X_test,y_train,y_test = train_test_split(X,y,test_size= 0.2,random_state =10)"
   ]
  },
  {
   "cell_type": "code",
   "execution_count": null,
   "id": "2e4bb5eb-017c-4cdb-abf4-478c63ddf1c4",
   "metadata": {},
   "outputs": [],
   "source": [
    "#using linear_regression model\n",
    "from sklearn.linear_model import LinearRegression\n",
    "lr_clf = LinearRegression()\n",
    "lr_clf.fit(X_train,y_train)\n",
    "lr_clf.score(X_test,y_test)"
   ]
  },
  {
   "cell_type": "code",
   "execution_count": null,
   "id": "19af0cb6-7b7e-4ea6-8029-fae5c01d5742",
   "metadata": {},
   "outputs": [],
   "source": [
    "#using k-fold cross validation model\n",
    "from sklearn.model_selection import ShuffleSplit\n",
    "from sklearn.model_selection import cross_val_score\n",
    "cv = ShuffleSplit(n_splits=5,test_size=0.2,random_state=0)\n",
    "cross_val_score(LinearRegression(),X,y,cv=cv)"
   ]
  },
  {
   "cell_type": "code",
   "execution_count": null,
   "id": "3bb57e2f-55bb-4a4b-b273-14cea50559a8",
   "metadata": {},
   "outputs": [],
   "source": [
    "def predict_price(location,sqft,bath,bedrooms):\n",
    "    loc_index = np.where(X.columns==location)[0][0]\n",
    "    x = np.zeros(len(X.columns))\n",
    "    x[0] = sqft\n",
    "    x[1] = bath\n",
    "    x[2] = bedrooms\n",
    "    if loc_index >= 0:\n",
    "        x[loc_index] = 1\n",
    "\n",
    "    return lr_clf.predict([x])[0]"
   ]
  },
  {
   "cell_type": "code",
   "execution_count": null,
   "id": "e19513cb-3922-48d3-b03d-f60c64b156eb",
   "metadata": {},
   "outputs": [],
   "source": [
    "price = predict_price('1st Phase JP Nagar',1000,2,2)\n",
    "\n",
    "print(price,\"lacs\")"
   ]
  },
  {
   "cell_type": "code",
   "execution_count": null,
   "id": "3796ad52-3a24-4a78-9c23-0cff5dff05f4",
   "metadata": {},
   "outputs": [],
   "source": [
    "import pickle\n",
    "import json\n",
    "with open('prediction','wb') as f:\n",
    "    pickle.dump(lr_clf,f)\n",
    "columns = {\n",
    "    'data_columns' : [col.lower() for col in X.columns]\n",
    "}\n",
    "with open(\"columns.json\",\"w\") as f:\n",
    "    f.write(json.dumps(columns))"
   ]
  },
  {
   "cell_type": "code",
   "execution_count": null,
   "id": "b0c45ba6-0541-4675-a622-ad3b2bcdbd07",
   "metadata": {},
   "outputs": [],
   "source": []
  }
 ],
 "metadata": {
  "kernelspec": {
   "display_name": "Python 3 (ipykernel)",
   "language": "python",
   "name": "python3"
  },
  "language_info": {
   "codemirror_mode": {
    "name": "ipython",
    "version": 3
   },
   "file_extension": ".py",
   "mimetype": "text/x-python",
   "name": "python",
   "nbconvert_exporter": "python",
   "pygments_lexer": "ipython3",
   "version": "3.10.12"
  }
 },
 "nbformat": 4,
 "nbformat_minor": 5
}
